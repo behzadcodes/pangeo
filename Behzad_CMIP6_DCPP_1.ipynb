{
 "cells": [
  {
   "cell_type": "code",
   "execution_count": 1,
   "metadata": {},
   "outputs": [
    {
     "name": "stderr",
     "output_type": "stream",
     "text": [
      "/srv/conda/envs/notebook/lib/python3.7/site-packages/ipykernel_launcher.py:9: TqdmExperimentalWarning: Using `tqdm.autonotebook.tqdm` in notebook mode. Use `tqdm.tqdm` instead to force console mode (e.g. in jupyter console)\n",
      "  if __name__ == '__main__':\n"
     ]
    }
   ],
   "source": [
    "import os\n",
    "os.environ['NUMPY_EXPERIMENTAL_ARRAY_FUNCTION'] = '0'\n",
    "\n",
    "from matplotlib import pyplot as plt\n",
    "import numpy as np\n",
    "import pandas as pd\n",
    "import xarray as xr\n",
    "import gcsfs # A pythonic file-system interface to Google Cloud Storage\n",
    "from tqdm.autonotebook import tqdm\n",
    "\n",
    "%matplotlib inline\n",
    "plt.rcParams['figure.figsize'] = 12, 6\n",
    "%config InlineBackend.figure_format = 'retina' "
   ]
  },
  {
   "cell_type": "code",
   "execution_count": 8,
   "metadata": {},
   "outputs": [],
   "source": [
    "from scipy.interpolate import griddata"
   ]
  },
  {
   "cell_type": "code",
   "execution_count": 2,
   "metadata": {},
   "outputs": [
    {
     "name": "stderr",
     "output_type": "stream",
     "text": [
      "distributed.scheduler - INFO - Clear task state\n",
      "/srv/conda/envs/notebook/lib/python3.7/site-packages/distributed/dashboard/core.py:72: UserWarning: \n",
      "Port 8787 is already in use. \n",
      "Perhaps you already have a cluster running?\n",
      "Hosting the diagnostics dashboard on a random port instead.\n",
      "  warnings.warn(\"\\n\" + msg)\n",
      "distributed.scheduler - INFO -   Scheduler at:   tcp://10.32.19.15:42741\n",
      "distributed.scheduler - INFO -   dashboard at:                    :45261\n",
      "distributed.scheduler - INFO - Receive client connection: Client-afdbd440-3d2f-11ea-82e3-a6362a4112d1\n",
      "distributed.core - INFO - Starting established connection\n"
     ]
    },
    {
     "data": {
      "text/html": [
       "<table style=\"border: 2px solid white;\">\n",
       "<tr>\n",
       "<td style=\"vertical-align: top; border: 0px solid white\">\n",
       "<h3 style=\"text-align: left;\">Client</h3>\n",
       "<ul style=\"text-align: left; list-style: none; margin: 0; padding: 0;\">\n",
       "  <li><b>Scheduler: </b>tcp://10.32.19.15:42741</li>\n",
       "  <li><b>Dashboard: </b><a href='/user/0000-0002-3606-2575/proxy/45261/status' target='_blank'>/user/0000-0002-3606-2575/proxy/45261/status</a>\n",
       "</ul>\n",
       "</td>\n",
       "<td style=\"vertical-align: top; border: 0px solid white\">\n",
       "<h3 style=\"text-align: left;\">Cluster</h3>\n",
       "<ul style=\"text-align: left; list-style:none; margin: 0; padding: 0;\">\n",
       "  <li><b>Workers: </b>0</li>\n",
       "  <li><b>Cores: </b>0</li>\n",
       "  <li><b>Memory: </b>0 B</li>\n",
       "</ul>\n",
       "</td>\n",
       "</tr>\n",
       "</table>"
      ],
      "text/plain": [
       "<Client: 'tcp://10.32.19.15:42741' processes=0 threads=0, memory=0 B>"
      ]
     },
     "execution_count": 2,
     "metadata": {},
     "output_type": "execute_result"
    },
    {
     "name": "stderr",
     "output_type": "stream",
     "text": [
      "distributed.scheduler - INFO - Register tcp://10.32.9.22:32799\n",
      "distributed.scheduler - INFO - Starting worker compute stream, tcp://10.32.9.22:32799\n",
      "distributed.core - INFO - Starting established connection\n"
     ]
    }
   ],
   "source": [
    "# Cluster was created via the dask labextension\n",
    "# Delete this cell and replace with a new one\n",
    "\n",
    "from dask.distributed import Client\n",
    "from dask_kubernetes import KubeCluster\n",
    "\n",
    "cluster = KubeCluster()\n",
    "cluster.adapt(minimum=1, maximum=20, interval='2s')\n",
    "client = Client(cluster)\n",
    "client"
   ]
  },
  {
   "cell_type": "code",
   "execution_count": 9,
   "metadata": {},
   "outputs": [],
   "source": [
    "def func_latlon_regrid(lat_n_regrid, lon_n_regrid, lat_min_regrid, lat_max_regrid, lon_min_regrid, lon_max_regrid): \n",
    "    Lat_regrid_1D=zeros ((lat_n_regrid));\n",
    "    Lat_bound_regrid = zeros ((lat_n_regrid,2)); Lat_bound_regrid[0,0]=-90;  Lat_bound_regrid[0,1]=Lat_bound_regrid[0,0] + (180/lat_n_regrid); Lat_regrid_1D[0]=(Lat_bound_regrid[0,0]+Lat_bound_regrid[0,1])/2\n",
    "    for ii in range(1,lat_n_regrid):\n",
    "        Lat_bound_regrid[ii,0]=Lat_bound_regrid[ii-1,1]\n",
    "        Lat_bound_regrid[ii,1]=Lat_bound_regrid[ii,0] +  (180/lat_n_regrid)\n",
    "        Lat_regrid_1D[ii]=(Lat_bound_regrid[ii,0]+Lat_bound_regrid[ii,1])/2\n",
    "    #### Longitude Bounds ####\n",
    "    Lon_regrid_1D=zeros ((lon_n_regrid));\n",
    "    Lon_bound_regrid = zeros ((lon_n_regrid,2)); Lon_bound_regrid[0,0]=0;  Lon_bound_regrid[0,1]=Lon_bound_regrid[0,0] + (360/lon_n_regrid); Lon_regrid_1D[0]=(Lon_bound_regrid[0,0]+Lon_bound_regrid[0,1])/2\n",
    "    for ii in range(1,lon_n_regrid):\n",
    "        Lon_bound_regrid[ii,0]=Lon_bound_regrid[ii-1,1]\n",
    "        Lon_bound_regrid[ii,1]=Lon_bound_regrid[ii,0] +  (360/lon_n_regrid)\n",
    "        Lon_regrid_1D[ii]=(Lon_bound_regrid[ii,0]+Lon_bound_regrid[ii,1])/2\n",
    "    \n",
    "    return Lat_regrid_1D, Lon_regrid_1D, Lat_bound_regrid, Lon_bound_regrid\n",
    "\n"
   ]
  },
  {
   "cell_type": "code",
   "execution_count": 3,
   "metadata": {},
   "outputs": [
    {
     "data": {
      "text/html": [
       "<div>\n",
       "<style scoped>\n",
       "    .dataframe tbody tr th:only-of-type {\n",
       "        vertical-align: middle;\n",
       "    }\n",
       "\n",
       "    .dataframe tbody tr th {\n",
       "        vertical-align: top;\n",
       "    }\n",
       "\n",
       "    .dataframe thead th {\n",
       "        text-align: right;\n",
       "    }\n",
       "</style>\n",
       "<table border=\"1\" class=\"dataframe\">\n",
       "  <thead>\n",
       "    <tr style=\"text-align: right;\">\n",
       "      <th></th>\n",
       "      <th>activity_id</th>\n",
       "      <th>institution_id</th>\n",
       "      <th>source_id</th>\n",
       "      <th>experiment_id</th>\n",
       "      <th>member_id</th>\n",
       "      <th>table_id</th>\n",
       "      <th>variable_id</th>\n",
       "      <th>grid_label</th>\n",
       "      <th>zstore</th>\n",
       "      <th>dcpp_init_year</th>\n",
       "    </tr>\n",
       "  </thead>\n",
       "  <tbody>\n",
       "    <tr>\n",
       "      <th>0</th>\n",
       "      <td>AerChemMIP</td>\n",
       "      <td>BCC</td>\n",
       "      <td>BCC-ESM1</td>\n",
       "      <td>piClim-CH4</td>\n",
       "      <td>r1i1p1f1</td>\n",
       "      <td>Amon</td>\n",
       "      <td>ch4</td>\n",
       "      <td>gn</td>\n",
       "      <td>gs://cmip6/AerChemMIP/BCC/BCC-ESM1/piClim-CH4/...</td>\n",
       "      <td>NaN</td>\n",
       "    </tr>\n",
       "    <tr>\n",
       "      <th>1</th>\n",
       "      <td>AerChemMIP</td>\n",
       "      <td>BCC</td>\n",
       "      <td>BCC-ESM1</td>\n",
       "      <td>piClim-CH4</td>\n",
       "      <td>r1i1p1f1</td>\n",
       "      <td>Amon</td>\n",
       "      <td>clt</td>\n",
       "      <td>gn</td>\n",
       "      <td>gs://cmip6/AerChemMIP/BCC/BCC-ESM1/piClim-CH4/...</td>\n",
       "      <td>NaN</td>\n",
       "    </tr>\n",
       "    <tr>\n",
       "      <th>2</th>\n",
       "      <td>AerChemMIP</td>\n",
       "      <td>BCC</td>\n",
       "      <td>BCC-ESM1</td>\n",
       "      <td>piClim-CH4</td>\n",
       "      <td>r1i1p1f1</td>\n",
       "      <td>Amon</td>\n",
       "      <td>co2</td>\n",
       "      <td>gn</td>\n",
       "      <td>gs://cmip6/AerChemMIP/BCC/BCC-ESM1/piClim-CH4/...</td>\n",
       "      <td>NaN</td>\n",
       "    </tr>\n",
       "    <tr>\n",
       "      <th>3</th>\n",
       "      <td>AerChemMIP</td>\n",
       "      <td>BCC</td>\n",
       "      <td>BCC-ESM1</td>\n",
       "      <td>piClim-CH4</td>\n",
       "      <td>r1i1p1f1</td>\n",
       "      <td>Amon</td>\n",
       "      <td>evspsbl</td>\n",
       "      <td>gn</td>\n",
       "      <td>gs://cmip6/AerChemMIP/BCC/BCC-ESM1/piClim-CH4/...</td>\n",
       "      <td>NaN</td>\n",
       "    </tr>\n",
       "    <tr>\n",
       "      <th>4</th>\n",
       "      <td>AerChemMIP</td>\n",
       "      <td>BCC</td>\n",
       "      <td>BCC-ESM1</td>\n",
       "      <td>piClim-CH4</td>\n",
       "      <td>r1i1p1f1</td>\n",
       "      <td>Amon</td>\n",
       "      <td>hfls</td>\n",
       "      <td>gn</td>\n",
       "      <td>gs://cmip6/AerChemMIP/BCC/BCC-ESM1/piClim-CH4/...</td>\n",
       "      <td>NaN</td>\n",
       "    </tr>\n",
       "  </tbody>\n",
       "</table>\n",
       "</div>"
      ],
      "text/plain": [
       "  activity_id institution_id source_id experiment_id member_id table_id  \\\n",
       "0  AerChemMIP            BCC  BCC-ESM1    piClim-CH4  r1i1p1f1     Amon   \n",
       "1  AerChemMIP            BCC  BCC-ESM1    piClim-CH4  r1i1p1f1     Amon   \n",
       "2  AerChemMIP            BCC  BCC-ESM1    piClim-CH4  r1i1p1f1     Amon   \n",
       "3  AerChemMIP            BCC  BCC-ESM1    piClim-CH4  r1i1p1f1     Amon   \n",
       "4  AerChemMIP            BCC  BCC-ESM1    piClim-CH4  r1i1p1f1     Amon   \n",
       "\n",
       "  variable_id grid_label                                             zstore  \\\n",
       "0         ch4         gn  gs://cmip6/AerChemMIP/BCC/BCC-ESM1/piClim-CH4/...   \n",
       "1         clt         gn  gs://cmip6/AerChemMIP/BCC/BCC-ESM1/piClim-CH4/...   \n",
       "2         co2         gn  gs://cmip6/AerChemMIP/BCC/BCC-ESM1/piClim-CH4/...   \n",
       "3     evspsbl         gn  gs://cmip6/AerChemMIP/BCC/BCC-ESM1/piClim-CH4/...   \n",
       "4        hfls         gn  gs://cmip6/AerChemMIP/BCC/BCC-ESM1/piClim-CH4/...   \n",
       "\n",
       "   dcpp_init_year  \n",
       "0             NaN  \n",
       "1             NaN  \n",
       "2             NaN  \n",
       "3             NaN  \n",
       "4             NaN  "
      ]
     },
     "execution_count": 3,
     "metadata": {},
     "output_type": "execute_result"
    }
   ],
   "source": [
    "df = pd.read_csv('https://storage.googleapis.com/pangeo-cmip6/pangeo-cmip6-zarr-consolidated-stores.csv')\n",
    "df.head()"
   ]
  },
  {
   "cell_type": "code",
   "execution_count": 4,
   "metadata": {},
   "outputs": [
    {
     "data": {
      "text/plain": [
       "array(['Amon', 'Omon', 'day', 'AERmon', 'AERmonZ', 'CFmon', 'fx', 'Lmon',\n",
       "       'SImon', 'Oyr', 'LImon', 'Ofx', '3hr', '6hrLev', 'Oday', 'Aclim',\n",
       "       'Emon', 'CFday', '6hrPlev', 'CF3hr', 'Oclim', 'SIclim', 'Eclim',\n",
       "       'Odec', 'AERhr', 'IfxGre', 'ImonGre', '6hrPlevPt', 'E3hr'],\n",
       "      dtype=object)"
      ]
     },
     "execution_count": 4,
     "metadata": {},
     "output_type": "execute_result"
    }
   ],
   "source": [
    "df['table_id'].unique()"
   ]
  },
  {
   "cell_type": "code",
   "execution_count": 5,
   "metadata": {},
   "outputs": [
    {
     "data": {
      "text/plain": [
       "array(['AerChemMIP', 'C4MIP', 'CFMIP', 'CMIP', 'DAMIP', 'DCPP', 'FAFMIP',\n",
       "       'GMMIP', 'HighResMIP', 'LS3MIP', 'LUMIP', 'OMIP', 'PMIP', 'RFMIP',\n",
       "       'ScenarioMIP'], dtype=object)"
      ]
     },
     "execution_count": 5,
     "metadata": {},
     "output_type": "execute_result"
    }
   ],
   "source": [
    "df['activity_id'].unique()"
   ]
  },
  {
   "cell_type": "code",
   "execution_count": 6,
   "metadata": {},
   "outputs": [
    {
     "data": {
      "text/plain": [
       "array(['piClim-CH4', 'piClim-NTCF', 'piClim-control', 'ssp370',\n",
       "       'piClim-2xDMS', 'piClim-2xdust', 'piClim-2xfire', 'piClim-2xss',\n",
       "       'piClim-BC', 'piClim-HC', 'piClim-N2O', 'piClim-OC', 'piClim-SO2',\n",
       "       '1pctCO2-bgc', 'esm-ssp585', 'hist-bgc', 'amip-4xCO2',\n",
       "       'amip-future4K', 'amip-m4K', 'amip-p4K', 'amip', 'abrupt-2xCO2',\n",
       "       'abrupt-solp4p', 'abrupt-0p5xCO2', 'amip-lwoff', 'amip-p4K-lwoff',\n",
       "       'abrupt-solm4p', 'aqua-4xCO2', 'aqua-control-lwoff',\n",
       "       'aqua-control', 'aqua-p4K-lwoff', 'aqua-p4K', '1pctCO2',\n",
       "       'abrupt-4xCO2', 'historical', 'piControl', 'esm-hist',\n",
       "       'esm-piControl', 'ssp126', 'ssp245', 'ssp585',\n",
       "       'esm-piControl-spinup', 'piControl-spinup', 'hist-GHG', 'hist-aer',\n",
       "       'hist-nat', 'hist-CO2', 'hist-sol', 'hist-stratO3', 'hist-volc',\n",
       "       'ssp245-GHG', 'ssp245-aer', 'ssp245-nat', 'ssp245-stratO3',\n",
       "       'dcppA-hindcast', 'dcppA-assim', 'dcppC-hindcast-noAgung',\n",
       "       'dcppC-hindcast-noElChichon', 'dcppC-hindcast-noPinatubo',\n",
       "       'dcppC-amv-neg', 'dcppC-amv-pos', 'dcppC-amv-ExTrop-neg',\n",
       "       'dcppC-amv-ExTrop-pos', 'dcppC-amv-Trop-neg', 'dcppC-amv-Trop-pos',\n",
       "       'dcppC-atl-control', 'dcppC-atl-pacemaker',\n",
       "       'dcppC-ipv-NexTrop-neg', 'dcppC-ipv-NexTrop-pos', 'dcppC-ipv-neg',\n",
       "       'dcppC-ipv-pos', 'dcppC-pac-control', 'dcppC-pac-pacemaker',\n",
       "       'faf-heat', 'faf-passiveheat', 'faf-stress', 'faf-water',\n",
       "       'faf-all', 'amip-hist', 'highresSST-present', 'hist-1950',\n",
       "       'control-1950', 'land-hist', 'deforest-globe',\n",
       "       'esm-ssp585-ssp126Lu', 'hist-noLu', 'land-noLu', 'omip1',\n",
       "       'lig127k', 'midHolocene', 'lgm', 'piClim-4xCO2', 'piClim-aer',\n",
       "       'piClim-anthro', 'piClim-ghg', 'piClim-lu', 'ssp119', 'ssp434',\n",
       "       'ssp460', 'ssp534-over'], dtype=object)"
      ]
     },
     "execution_count": 6,
     "metadata": {},
     "output_type": "execute_result"
    }
   ],
   "source": [
    "df['experiment_id'].unique()"
   ]
  },
  {
   "cell_type": "code",
   "execution_count": 7,
   "metadata": {},
   "outputs": [
    {
     "data": {
      "text/plain": [
       "array(['ch4', 'clt', 'co2', 'evspsbl', 'hfls', 'hfss', 'hus', 'o3', 'pr',\n",
       "       'prsn', 'prw', 'ps', 'psl', 'rlds', 'rlus', 'rlut', 'rlutcs',\n",
       "       'rsds', 'rsdt', 'rsus', 'rsut', 'rsutcs', 'ta', 'tas', 'tauu',\n",
       "       'tauv', 'ts', 'ua', 'uas', 'va', 'vas', 'zg', 'tasmax', 'tasmin',\n",
       "       'zos', 'airmass', 'cdnc', 'co', 'emidust', 'emiss', 'mmrbc',\n",
       "       'mmrdust', 'mmroa', 'mmrso4', 'mmrss', 'no', 'no2', 'o3loss',\n",
       "       'o3prod', 'od550aer', 'oh', 'ptp', 'rlutaf', 'rlutcsaf', 'rsutaf',\n",
       "       'rsutcsaf', 'so2', 'toz', 'wa', 'hurs', 'huss', 'areacella',\n",
       "       'clisccp', 'cLeaf', 'cVeg', 'gpp', 'lai', 'npp', 'ra', 'tran',\n",
       "       'sisnthick', 'chl', 'detoc', 'diftrblo', 'difvho', 'difvso',\n",
       "       'dissic', 'dissicabio', 'dissicnat', 'fgco2', 'fgco2abio',\n",
       "       'fgco2nat', 'no3', 'o2', 'phyc', 'phyn', 'pon', 'talk', 'zooc',\n",
       "       'nbp', 'siconc', 'sisnconc', 'fgo2', 'hfds', 'sos', 'tos', 'calc',\n",
       "       'dfe', 'dissoc', 'expc', 'expn', 'expp', 'expsi', 'graz', 'nh4',\n",
       "       'ph', 'phydiat', 'phydiaz', 'phypico', 'pnitrate', 'po4', 'pp',\n",
       "       'remoc', 'si', 'sithick', 'snw', 'mrro', 'mrso', 'mrsos', 'basin',\n",
       "       'areacello', 'deptho', 'sftof', 'siarean', 'siareas', 'sivol',\n",
       "       'sivoln', 'sivols', 'mlotst', 'so', 'tauuo', 'tauvo', 'thetao',\n",
       "       'thetaoga', 'uo', 'vo', 'volo', 'wo', 'sfcWindmax', 'masscello',\n",
       "       'masso', 'thkcello', 'zostoga', 'snc', 'cLitterAbove',\n",
       "       'cLitterBelow', 'cRoot', 'cSoilFast', 'cSoilMedium', 'cSoilSlow',\n",
       "       'rh', 'tsl', 'pbo', 'umo', 'vmo', 'mrros', 'msftbarot', 'hur',\n",
       "       'prc', 'sfcWind', 'wap', 'volcello', 'siconca', 'sidmassmeltbot',\n",
       "       'sitemptop', 'sndmasssnf', 'sidmassdyn', 'sidmassth',\n",
       "       'siflcondtop', 'sifllwutop', 'siforcecoriolx', 'siforceintstry',\n",
       "       'sidmasssi', 'siforcecorioly', 'cl', 'cli', 'clivi', 'clw',\n",
       "       'clwvi', 'mc', 'pfull', 'phalf', 'rldscs', 'rsdscs', 'rsuscs',\n",
       "       'rtmt', 'siflswdbot', 'siv', 'sndmasssi', 'sidconcth',\n",
       "       'siforceintstrx', 'sipr', 'sistrxubot', 'siflsensupbot', 'agessc',\n",
       "       'prra', 'rsdo', 'rsntds', 'spco2', 'spco2abio', 'spco2nat',\n",
       "       'epc100', 'epcalc100', 'msftmz', 'msftmzmpa', 'obvfsq', 'orog',\n",
       "       'sftgif', 'sftlf', 'cfc11', 'sf6', 'bigthetao', 'rld', 'hfy',\n",
       "       'mfo', 'hursmax', 'hursmin', 'abs550aer', 'ta700', 'bfe', 'bsi',\n",
       "       'chldiat', 'chlmisc', 'co3', 'dmso', 'od550lt1aer', 'od870aer',\n",
       "       'burntFractionAll', 'cProduct', 'ocfriver', 'pbsi', 'phyfe',\n",
       "       'phymisc', 'physi', 'intpp', 'dpco2', 'intdic', 'albisccp', 'vsf',\n",
       "       'fbddtdife', 'fbddtdin', 'fbddtdip', 'fbddtdisi', 'expfe', 'pbfe',\n",
       "       'pcalc', 'ppdiat', 'ppmisc', 'zg1000', 'diftrelo', 'phos',\n",
       "       'fescav', 'co3satarag', 'o2sat', 'emidms', 'emilnox', 'lossch4',\n",
       "       'lossco', 'photo1d', 'tropoz', 'zsatarag', 'chlpico', 'bacc',\n",
       "       'chlcalc', 'chldiaz', 'simpconc', 'simpmass', 'msftmyz',\n",
       "       'hfgeoubed', 'lithk', 'topg', 'fddtalk', 'fddtdic', 'fddtdife',\n",
       "       'fddtdin', 'fddtdip', 'fddtdisi', 'bddtalk', 'bddtdic', 'bddtdife',\n",
       "       'bddtdin', 'bddtdip', 'bddtdisi', 'fediss', 'phyp', 'talknat',\n",
       "       'mmrnh4', 'mmrsoa', 'cCwd', 'msftmzsmpa', 'msftmrho', 'mmrpm2p5',\n",
       "       'arag', 'sbl', 'snm', 'tsn', 'treeFrac'], dtype=object)"
      ]
     },
     "execution_count": 7,
     "metadata": {},
     "output_type": "execute_result"
    }
   ],
   "source": [
    "df['variable_id'].unique()"
   ]
  },
  {
   "cell_type": "code",
   "execution_count": 18,
   "metadata": {},
   "outputs": [
    {
     "data": {
      "text/plain": [
       "1982"
      ]
     },
     "execution_count": 18,
     "metadata": {},
     "output_type": "execute_result"
    }
   ],
   "source": [
    "df_pr_mon = df[(df.table_id == 'Amon') & (df.variable_id == 'pr') & (df.activity_id == 'DCPP') & (df.experiment_id == 'dcppA-hindcast')]\n",
    "#df_pr_mon = df_pr_mon[ df_pr_mon['member_id'] == 'r1i1p1f1']\n",
    "#df_pr_mon = df_pr_mon[ df_pr_mon['grid_label'] == 'gn']\n",
    "#df_pr_mon = df_pr_mon[ df_pr_mon['member_id'].apply(lambda run: run[2]) == 'i' ] # Removing runs that have double digit run numbers like r10i1p1f2\n",
    "#df_pr_mon = df_pr_mon[ df_pr_mon['member_id'].apply(lambda run: run[1]) == '1' ] # Only select 1st runs (for example r1i1p1f1)\n",
    "len(df_pr_mon)"
   ]
  },
  {
   "cell_type": "code",
   "execution_count": 19,
   "metadata": {},
   "outputs": [
    {
     "data": {
      "text/plain": [
       "source_id  experiment_id \n",
       "CanESM5    dcppA-hindcast    1140\n",
       "MIROC6     dcppA-hindcast     590\n",
       "NorCPM1    dcppA-hindcast     252\n",
       "Name: zstore, dtype: int64"
      ]
     },
     "execution_count": 19,
     "metadata": {},
     "output_type": "execute_result"
    }
   ],
   "source": [
    "run_counts = df_pr_mon.groupby(['source_id', 'experiment_id'])['zstore'].count()\n",
    "run_counts"
   ]
  },
  {
   "cell_type": "code",
   "execution_count": 23,
   "metadata": {},
   "outputs": [
    {
     "data": {
      "text/html": [
       "<div>\n",
       "<style scoped>\n",
       "    .dataframe tbody tr th:only-of-type {\n",
       "        vertical-align: middle;\n",
       "    }\n",
       "\n",
       "    .dataframe tbody tr th {\n",
       "        vertical-align: top;\n",
       "    }\n",
       "\n",
       "    .dataframe thead th {\n",
       "        text-align: right;\n",
       "    }\n",
       "</style>\n",
       "<table border=\"1\" class=\"dataframe\">\n",
       "  <thead>\n",
       "    <tr style=\"text-align: right;\">\n",
       "      <th></th>\n",
       "      <th>activity_id</th>\n",
       "      <th>institution_id</th>\n",
       "      <th>source_id</th>\n",
       "      <th>experiment_id</th>\n",
       "      <th>member_id</th>\n",
       "      <th>table_id</th>\n",
       "      <th>variable_id</th>\n",
       "      <th>grid_label</th>\n",
       "      <th>zstore</th>\n",
       "      <th>dcpp_init_year</th>\n",
       "    </tr>\n",
       "  </thead>\n",
       "  <tbody>\n",
       "    <tr>\n",
       "      <th>188737</th>\n",
       "      <td>DCPP</td>\n",
       "      <td>NCC</td>\n",
       "      <td>NorCPM1</td>\n",
       "      <td>dcppA-hindcast</td>\n",
       "      <td>r10i2p1f1</td>\n",
       "      <td>Amon</td>\n",
       "      <td>pr</td>\n",
       "      <td>gn</td>\n",
       "      <td>gs://cmip6/DCPP/NCC/NorCPM1/dcppA-hindcast/s19...</td>\n",
       "      <td>1960.0</td>\n",
       "    </tr>\n",
       "    <tr>\n",
       "      <th>188749</th>\n",
       "      <td>DCPP</td>\n",
       "      <td>NCC</td>\n",
       "      <td>NorCPM1</td>\n",
       "      <td>dcppA-hindcast</td>\n",
       "      <td>r1i1p1f1</td>\n",
       "      <td>Amon</td>\n",
       "      <td>pr</td>\n",
       "      <td>gn</td>\n",
       "      <td>gs://cmip6/DCPP/NCC/NorCPM1/dcppA-hindcast/s19...</td>\n",
       "      <td>1960.0</td>\n",
       "    </tr>\n",
       "    <tr>\n",
       "      <th>188762</th>\n",
       "      <td>DCPP</td>\n",
       "      <td>NCC</td>\n",
       "      <td>NorCPM1</td>\n",
       "      <td>dcppA-hindcast</td>\n",
       "      <td>r1i2p1f1</td>\n",
       "      <td>Amon</td>\n",
       "      <td>pr</td>\n",
       "      <td>gn</td>\n",
       "      <td>gs://cmip6/DCPP/NCC/NorCPM1/dcppA-hindcast/s19...</td>\n",
       "      <td>1960.0</td>\n",
       "    </tr>\n",
       "    <tr>\n",
       "      <th>188786</th>\n",
       "      <td>DCPP</td>\n",
       "      <td>NCC</td>\n",
       "      <td>NorCPM1</td>\n",
       "      <td>dcppA-hindcast</td>\n",
       "      <td>r3i1p1f1</td>\n",
       "      <td>Amon</td>\n",
       "      <td>pr</td>\n",
       "      <td>gn</td>\n",
       "      <td>gs://cmip6/DCPP/NCC/NorCPM1/dcppA-hindcast/s19...</td>\n",
       "      <td>1960.0</td>\n",
       "    </tr>\n",
       "    <tr>\n",
       "      <th>188809</th>\n",
       "      <td>DCPP</td>\n",
       "      <td>NCC</td>\n",
       "      <td>NorCPM1</td>\n",
       "      <td>dcppA-hindcast</td>\n",
       "      <td>r4i2p1f1</td>\n",
       "      <td>Amon</td>\n",
       "      <td>pr</td>\n",
       "      <td>gn</td>\n",
       "      <td>gs://cmip6/DCPP/NCC/NorCPM1/dcppA-hindcast/s19...</td>\n",
       "      <td>1960.0</td>\n",
       "    </tr>\n",
       "    <tr>\n",
       "      <th>188841</th>\n",
       "      <td>DCPP</td>\n",
       "      <td>NCC</td>\n",
       "      <td>NorCPM1</td>\n",
       "      <td>dcppA-hindcast</td>\n",
       "      <td>r6i1p1f1</td>\n",
       "      <td>Amon</td>\n",
       "      <td>pr</td>\n",
       "      <td>gn</td>\n",
       "      <td>gs://cmip6/DCPP/NCC/NorCPM1/dcppA-hindcast/s19...</td>\n",
       "      <td>1960.0</td>\n",
       "    </tr>\n",
       "    <tr>\n",
       "      <th>188849</th>\n",
       "      <td>DCPP</td>\n",
       "      <td>NCC</td>\n",
       "      <td>NorCPM1</td>\n",
       "      <td>dcppA-hindcast</td>\n",
       "      <td>r6i2p1f1</td>\n",
       "      <td>Amon</td>\n",
       "      <td>pr</td>\n",
       "      <td>gn</td>\n",
       "      <td>gs://cmip6/DCPP/NCC/NorCPM1/dcppA-hindcast/s19...</td>\n",
       "      <td>1960.0</td>\n",
       "    </tr>\n",
       "    <tr>\n",
       "      <th>188870</th>\n",
       "      <td>DCPP</td>\n",
       "      <td>NCC</td>\n",
       "      <td>NorCPM1</td>\n",
       "      <td>dcppA-hindcast</td>\n",
       "      <td>r8i1p1f1</td>\n",
       "      <td>Amon</td>\n",
       "      <td>pr</td>\n",
       "      <td>gn</td>\n",
       "      <td>gs://cmip6/DCPP/NCC/NorCPM1/dcppA-hindcast/s19...</td>\n",
       "      <td>1960.0</td>\n",
       "    </tr>\n",
       "    <tr>\n",
       "      <th>188900</th>\n",
       "      <td>DCPP</td>\n",
       "      <td>NCC</td>\n",
       "      <td>NorCPM1</td>\n",
       "      <td>dcppA-hindcast</td>\n",
       "      <td>r10i1p1f1</td>\n",
       "      <td>Amon</td>\n",
       "      <td>pr</td>\n",
       "      <td>gn</td>\n",
       "      <td>gs://cmip6/DCPP/NCC/NorCPM1/dcppA-hindcast/s19...</td>\n",
       "      <td>1961.0</td>\n",
       "    </tr>\n",
       "    <tr>\n",
       "      <th>189005</th>\n",
       "      <td>DCPP</td>\n",
       "      <td>NCC</td>\n",
       "      <td>NorCPM1</td>\n",
       "      <td>dcppA-hindcast</td>\n",
       "      <td>r6i2p1f1</td>\n",
       "      <td>Amon</td>\n",
       "      <td>pr</td>\n",
       "      <td>gn</td>\n",
       "      <td>gs://cmip6/DCPP/NCC/NorCPM1/dcppA-hindcast/s19...</td>\n",
       "      <td>1961.0</td>\n",
       "    </tr>\n",
       "  </tbody>\n",
       "</table>\n",
       "</div>"
      ],
      "text/plain": [
       "       activity_id institution_id source_id   experiment_id  member_id  \\\n",
       "188737        DCPP            NCC   NorCPM1  dcppA-hindcast  r10i2p1f1   \n",
       "188749        DCPP            NCC   NorCPM1  dcppA-hindcast   r1i1p1f1   \n",
       "188762        DCPP            NCC   NorCPM1  dcppA-hindcast   r1i2p1f1   \n",
       "188786        DCPP            NCC   NorCPM1  dcppA-hindcast   r3i1p1f1   \n",
       "188809        DCPP            NCC   NorCPM1  dcppA-hindcast   r4i2p1f1   \n",
       "188841        DCPP            NCC   NorCPM1  dcppA-hindcast   r6i1p1f1   \n",
       "188849        DCPP            NCC   NorCPM1  dcppA-hindcast   r6i2p1f1   \n",
       "188870        DCPP            NCC   NorCPM1  dcppA-hindcast   r8i1p1f1   \n",
       "188900        DCPP            NCC   NorCPM1  dcppA-hindcast  r10i1p1f1   \n",
       "189005        DCPP            NCC   NorCPM1  dcppA-hindcast   r6i2p1f1   \n",
       "\n",
       "       table_id variable_id grid_label  \\\n",
       "188737     Amon          pr         gn   \n",
       "188749     Amon          pr         gn   \n",
       "188762     Amon          pr         gn   \n",
       "188786     Amon          pr         gn   \n",
       "188809     Amon          pr         gn   \n",
       "188841     Amon          pr         gn   \n",
       "188849     Amon          pr         gn   \n",
       "188870     Amon          pr         gn   \n",
       "188900     Amon          pr         gn   \n",
       "189005     Amon          pr         gn   \n",
       "\n",
       "                                                   zstore  dcpp_init_year  \n",
       "188737  gs://cmip6/DCPP/NCC/NorCPM1/dcppA-hindcast/s19...          1960.0  \n",
       "188749  gs://cmip6/DCPP/NCC/NorCPM1/dcppA-hindcast/s19...          1960.0  \n",
       "188762  gs://cmip6/DCPP/NCC/NorCPM1/dcppA-hindcast/s19...          1960.0  \n",
       "188786  gs://cmip6/DCPP/NCC/NorCPM1/dcppA-hindcast/s19...          1960.0  \n",
       "188809  gs://cmip6/DCPP/NCC/NorCPM1/dcppA-hindcast/s19...          1960.0  \n",
       "188841  gs://cmip6/DCPP/NCC/NorCPM1/dcppA-hindcast/s19...          1960.0  \n",
       "188849  gs://cmip6/DCPP/NCC/NorCPM1/dcppA-hindcast/s19...          1960.0  \n",
       "188870  gs://cmip6/DCPP/NCC/NorCPM1/dcppA-hindcast/s19...          1960.0  \n",
       "188900  gs://cmip6/DCPP/NCC/NorCPM1/dcppA-hindcast/s19...          1961.0  \n",
       "189005  gs://cmip6/DCPP/NCC/NorCPM1/dcppA-hindcast/s19...          1961.0  "
      ]
     },
     "execution_count": 23,
     "metadata": {},
     "output_type": "execute_result"
    },
    {
     "name": "stderr",
     "output_type": "stream",
     "text": [
      "distributed.scheduler - INFO - Remove worker tcp://10.32.9.22:32799\n",
      "distributed.core - INFO - Removing comms to tcp://10.32.9.22:32799\n",
      "distributed.scheduler - INFO - Lost all workers\n",
      "distributed.scheduler - INFO - Register tcp://10.32.9.3:38357\n",
      "distributed.scheduler - INFO - Starting worker compute stream, tcp://10.32.9.3:38357\n",
      "distributed.core - INFO - Starting established connection\n"
     ]
    }
   ],
   "source": [
    "df_pr_mon[df_pr_mon.source_id=='NorCPM1'].head(10)"
   ]
  },
  {
   "cell_type": "code",
   "execution_count": null,
   "metadata": {},
   "outputs": [],
   "source": []
  },
  {
   "cell_type": "code",
   "execution_count": null,
   "metadata": {},
   "outputs": [],
   "source": []
  }
 ],
 "metadata": {
  "kernelspec": {
   "display_name": "Python 3",
   "language": "python",
   "name": "python3"
  },
  "language_info": {
   "codemirror_mode": {
    "name": "ipython",
    "version": 3
   },
   "file_extension": ".py",
   "mimetype": "text/x-python",
   "name": "python",
   "nbconvert_exporter": "python",
   "pygments_lexer": "ipython3",
   "version": "3.7.6"
  }
 },
 "nbformat": 4,
 "nbformat_minor": 4
}
